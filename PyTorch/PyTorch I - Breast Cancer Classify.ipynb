{
 "cells": [
  {
   "cell_type": "markdown",
   "metadata": {},
   "source": [
    "### PyTorch NN Studies Notebook I - Breast Cancer Classification"
   ]
  },
  {
   "cell_type": "code",
   "execution_count": 102,
   "metadata": {},
   "outputs": [],
   "source": [
    "import numpy as np\n",
    "import matplotlib.pyplot as plt\n",
    "import pandas as pd\n",
    "import seaborn as sns\n",
    "import cv2\n",
    "import time\n",
    "import random\n",
    "from IPython.display import clear_output"
   ]
  },
  {
   "cell_type": "code",
   "execution_count": 103,
   "metadata": {},
   "outputs": [
    {
     "name": "stdout",
     "output_type": "stream",
     "text": [
      "1.9.1+cpu\n"
     ]
    }
   ],
   "source": [
    "import torch\n",
    "print(torch.__version__)"
   ]
  },
  {
   "cell_type": "markdown",
   "metadata": {},
   "source": [
    "### Loading Datasets:"
   ]
  },
  {
   "cell_type": "code",
   "execution_count": 129,
   "metadata": {},
   "outputs": [],
   "source": [
    "data_base_path = 'C:/Users/Mafeus/Desktop/Curso PyTorch/Bases/Bases/'"
   ]
  },
  {
   "cell_type": "code",
   "execution_count": 130,
   "metadata": {},
   "outputs": [
    {
     "data": {
      "text/html": [
       "<div>\n",
       "<style scoped>\n",
       "    .dataframe tbody tr th:only-of-type {\n",
       "        vertical-align: middle;\n",
       "    }\n",
       "\n",
       "    .dataframe tbody tr th {\n",
       "        vertical-align: top;\n",
       "    }\n",
       "\n",
       "    .dataframe thead th {\n",
       "        text-align: right;\n",
       "    }\n",
       "</style>\n",
       "<table border=\"1\" class=\"dataframe\">\n",
       "  <thead>\n",
       "    <tr style=\"text-align: right;\">\n",
       "      <th></th>\n",
       "      <th>radius_mean</th>\n",
       "      <th>texture_mean</th>\n",
       "      <th>perimeter_mean</th>\n",
       "      <th>area_mean</th>\n",
       "      <th>smoothness_mean</th>\n",
       "      <th>compactness_mean</th>\n",
       "      <th>concavity_mean</th>\n",
       "      <th>concave_points_mean</th>\n",
       "      <th>symmetry_mean</th>\n",
       "      <th>fractal_dimension_mean</th>\n",
       "      <th>...</th>\n",
       "      <th>radius_worst</th>\n",
       "      <th>texture_worst</th>\n",
       "      <th>perimeter_worst</th>\n",
       "      <th>area_worst</th>\n",
       "      <th>smoothness_worst</th>\n",
       "      <th>compactness_worst</th>\n",
       "      <th>concavity_worst</th>\n",
       "      <th>concave_points_worst</th>\n",
       "      <th>symmetry_worst</th>\n",
       "      <th>fractal_dimension_worst</th>\n",
       "    </tr>\n",
       "  </thead>\n",
       "  <tbody>\n",
       "    <tr>\n",
       "      <th>count</th>\n",
       "      <td>569.000000</td>\n",
       "      <td>569.000000</td>\n",
       "      <td>569.000000</td>\n",
       "      <td>569.000000</td>\n",
       "      <td>569.000000</td>\n",
       "      <td>569.000000</td>\n",
       "      <td>569.000000</td>\n",
       "      <td>569.000000</td>\n",
       "      <td>569.000000</td>\n",
       "      <td>569.000000</td>\n",
       "      <td>...</td>\n",
       "      <td>569.000000</td>\n",
       "      <td>569.000000</td>\n",
       "      <td>569.000000</td>\n",
       "      <td>569.000000</td>\n",
       "      <td>569.000000</td>\n",
       "      <td>569.000000</td>\n",
       "      <td>569.000000</td>\n",
       "      <td>569.000000</td>\n",
       "      <td>569.000000</td>\n",
       "      <td>569.000000</td>\n",
       "    </tr>\n",
       "    <tr>\n",
       "      <th>mean</th>\n",
       "      <td>706.771388</td>\n",
       "      <td>19.289649</td>\n",
       "      <td>91.969033</td>\n",
       "      <td>654.889104</td>\n",
       "      <td>4.304801</td>\n",
       "      <td>4.835984</td>\n",
       "      <td>7.489124</td>\n",
       "      <td>2.366459</td>\n",
       "      <td>16.965766</td>\n",
       "      <td>0.851112</td>\n",
       "      <td>...</td>\n",
       "      <td>315.194921</td>\n",
       "      <td>25.677223</td>\n",
       "      <td>107.261213</td>\n",
       "      <td>880.583128</td>\n",
       "      <td>10.633281</td>\n",
       "      <td>25.259112</td>\n",
       "      <td>26.723742</td>\n",
       "      <td>8.745685</td>\n",
       "      <td>30.367174</td>\n",
       "      <td>1.964313</td>\n",
       "    </tr>\n",
       "    <tr>\n",
       "      <th>std</th>\n",
       "      <td>2430.243368</td>\n",
       "      <td>4.301036</td>\n",
       "      <td>24.298981</td>\n",
       "      <td>351.914129</td>\n",
       "      <td>21.074558</td>\n",
       "      <td>26.827478</td>\n",
       "      <td>35.618994</td>\n",
       "      <td>16.155145</td>\n",
       "      <td>53.846023</td>\n",
       "      <td>7.103493</td>\n",
       "      <td>...</td>\n",
       "      <td>1655.459336</td>\n",
       "      <td>6.146258</td>\n",
       "      <td>33.602542</td>\n",
       "      <td>569.356993</td>\n",
       "      <td>37.236433</td>\n",
       "      <td>96.473015</td>\n",
       "      <td>114.204035</td>\n",
       "      <td>39.465975</td>\n",
       "      <td>90.748044</td>\n",
       "      <td>14.464355</td>\n",
       "    </tr>\n",
       "    <tr>\n",
       "      <th>min</th>\n",
       "      <td>7.760000</td>\n",
       "      <td>9.710000</td>\n",
       "      <td>43.790000</td>\n",
       "      <td>143.500000</td>\n",
       "      <td>0.052630</td>\n",
       "      <td>0.019380</td>\n",
       "      <td>0.000000</td>\n",
       "      <td>0.000000</td>\n",
       "      <td>0.116700</td>\n",
       "      <td>0.049960</td>\n",
       "      <td>...</td>\n",
       "      <td>7.930000</td>\n",
       "      <td>12.020000</td>\n",
       "      <td>50.410000</td>\n",
       "      <td>185.200000</td>\n",
       "      <td>0.071170</td>\n",
       "      <td>0.027290</td>\n",
       "      <td>0.000000</td>\n",
       "      <td>0.000000</td>\n",
       "      <td>0.156500</td>\n",
       "      <td>0.055040</td>\n",
       "    </tr>\n",
       "    <tr>\n",
       "      <th>25%</th>\n",
       "      <td>12.210000</td>\n",
       "      <td>16.170000</td>\n",
       "      <td>75.170000</td>\n",
       "      <td>420.300000</td>\n",
       "      <td>0.086410</td>\n",
       "      <td>0.065260</td>\n",
       "      <td>0.029580</td>\n",
       "      <td>0.020310</td>\n",
       "      <td>0.163400</td>\n",
       "      <td>0.057800</td>\n",
       "      <td>...</td>\n",
       "      <td>13.180000</td>\n",
       "      <td>21.080000</td>\n",
       "      <td>84.110000</td>\n",
       "      <td>515.300000</td>\n",
       "      <td>0.117800</td>\n",
       "      <td>0.150700</td>\n",
       "      <td>0.116800</td>\n",
       "      <td>0.064990</td>\n",
       "      <td>0.254900</td>\n",
       "      <td>0.071460</td>\n",
       "    </tr>\n",
       "    <tr>\n",
       "      <th>50%</th>\n",
       "      <td>13.850000</td>\n",
       "      <td>18.840000</td>\n",
       "      <td>86.240000</td>\n",
       "      <td>551.100000</td>\n",
       "      <td>0.095940</td>\n",
       "      <td>0.094620</td>\n",
       "      <td>0.063870</td>\n",
       "      <td>0.033900</td>\n",
       "      <td>0.181400</td>\n",
       "      <td>0.061660</td>\n",
       "      <td>...</td>\n",
       "      <td>15.150000</td>\n",
       "      <td>25.410000</td>\n",
       "      <td>97.660000</td>\n",
       "      <td>686.500000</td>\n",
       "      <td>0.133800</td>\n",
       "      <td>0.227900</td>\n",
       "      <td>0.249200</td>\n",
       "      <td>0.101500</td>\n",
       "      <td>0.288400</td>\n",
       "      <td>0.080060</td>\n",
       "    </tr>\n",
       "    <tr>\n",
       "      <th>75%</th>\n",
       "      <td>17.680000</td>\n",
       "      <td>21.800000</td>\n",
       "      <td>104.100000</td>\n",
       "      <td>782.700000</td>\n",
       "      <td>0.106100</td>\n",
       "      <td>0.132500</td>\n",
       "      <td>0.142500</td>\n",
       "      <td>0.077260</td>\n",
       "      <td>0.203600</td>\n",
       "      <td>0.066400</td>\n",
       "      <td>...</td>\n",
       "      <td>19.850000</td>\n",
       "      <td>29.720000</td>\n",
       "      <td>125.400000</td>\n",
       "      <td>1084.000000</td>\n",
       "      <td>0.150000</td>\n",
       "      <td>0.384200</td>\n",
       "      <td>0.431600</td>\n",
       "      <td>0.170800</td>\n",
       "      <td>0.331800</td>\n",
       "      <td>0.092110</td>\n",
       "    </tr>\n",
       "    <tr>\n",
       "      <th>max</th>\n",
       "      <td>9904.000000</td>\n",
       "      <td>39.280000</td>\n",
       "      <td>188.500000</td>\n",
       "      <td>2501.000000</td>\n",
       "      <td>123.000000</td>\n",
       "      <td>277.000000</td>\n",
       "      <td>313.000000</td>\n",
       "      <td>162.000000</td>\n",
       "      <td>304.000000</td>\n",
       "      <td>78.000000</td>\n",
       "      <td>...</td>\n",
       "      <td>9981.000000</td>\n",
       "      <td>49.540000</td>\n",
       "      <td>251.200000</td>\n",
       "      <td>4254.000000</td>\n",
       "      <td>185.000000</td>\n",
       "      <td>1058.000000</td>\n",
       "      <td>1252.000000</td>\n",
       "      <td>291.000000</td>\n",
       "      <td>544.000000</td>\n",
       "      <td>173.000000</td>\n",
       "    </tr>\n",
       "  </tbody>\n",
       "</table>\n",
       "<p>8 rows × 30 columns</p>\n",
       "</div>"
      ],
      "text/plain": [
       "        radius_mean   texture_mean   perimeter_mean    area_mean  \\\n",
       "count    569.000000     569.000000       569.000000   569.000000   \n",
       "mean     706.771388      19.289649        91.969033   654.889104   \n",
       "std     2430.243368       4.301036        24.298981   351.914129   \n",
       "min        7.760000       9.710000        43.790000   143.500000   \n",
       "25%       12.210000      16.170000        75.170000   420.300000   \n",
       "50%       13.850000      18.840000        86.240000   551.100000   \n",
       "75%       17.680000      21.800000       104.100000   782.700000   \n",
       "max     9904.000000      39.280000       188.500000  2501.000000   \n",
       "\n",
       "        smoothness_mean   compactness_mean   concavity_mean  \\\n",
       "count        569.000000         569.000000       569.000000   \n",
       "mean           4.304801           4.835984         7.489124   \n",
       "std           21.074558          26.827478        35.618994   \n",
       "min            0.052630           0.019380         0.000000   \n",
       "25%            0.086410           0.065260         0.029580   \n",
       "50%            0.095940           0.094620         0.063870   \n",
       "75%            0.106100           0.132500         0.142500   \n",
       "max          123.000000         277.000000       313.000000   \n",
       "\n",
       "       concave_points_mean   symmetry_mean   fractal_dimension_mean  ...  \\\n",
       "count           569.000000      569.000000               569.000000  ...   \n",
       "mean              2.366459       16.965766                 0.851112  ...   \n",
       "std              16.155145       53.846023                 7.103493  ...   \n",
       "min               0.000000        0.116700                 0.049960  ...   \n",
       "25%               0.020310        0.163400                 0.057800  ...   \n",
       "50%               0.033900        0.181400                 0.061660  ...   \n",
       "75%               0.077260        0.203600                 0.066400  ...   \n",
       "max             162.000000      304.000000                78.000000  ...   \n",
       "\n",
       "        radius_worst   texture_worst   perimeter_worst   area_worst  \\\n",
       "count     569.000000      569.000000        569.000000   569.000000   \n",
       "mean      315.194921       25.677223        107.261213   880.583128   \n",
       "std      1655.459336        6.146258         33.602542   569.356993   \n",
       "min         7.930000       12.020000         50.410000   185.200000   \n",
       "25%        13.180000       21.080000         84.110000   515.300000   \n",
       "50%        15.150000       25.410000         97.660000   686.500000   \n",
       "75%        19.850000       29.720000        125.400000  1084.000000   \n",
       "max      9981.000000       49.540000        251.200000  4254.000000   \n",
       "\n",
       "        smoothness_worst   compactness_worst   concavity_worst  \\\n",
       "count         569.000000          569.000000        569.000000   \n",
       "mean           10.633281           25.259112         26.723742   \n",
       "std            37.236433           96.473015        114.204035   \n",
       "min             0.071170            0.027290          0.000000   \n",
       "25%             0.117800            0.150700          0.116800   \n",
       "50%             0.133800            0.227900          0.249200   \n",
       "75%             0.150000            0.384200          0.431600   \n",
       "max           185.000000         1058.000000       1252.000000   \n",
       "\n",
       "        concave_points_worst   symmetry_worst   fractal_dimension_worst  \n",
       "count             569.000000       569.000000                569.000000  \n",
       "mean                8.745685        30.367174                  1.964313  \n",
       "std                39.465975        90.748044                 14.464355  \n",
       "min                 0.000000         0.156500                  0.055040  \n",
       "25%                 0.064990         0.254900                  0.071460  \n",
       "50%                 0.101500         0.288400                  0.080060  \n",
       "75%                 0.170800         0.331800                  0.092110  \n",
       "max               291.000000       544.000000                173.000000  \n",
       "\n",
       "[8 rows x 30 columns]"
      ]
     },
     "execution_count": 130,
     "metadata": {},
     "output_type": "execute_result"
    }
   ],
   "source": [
    "input_data  = pd.read_csv(data_base_path + 'entradas_breast.csv')\n",
    "output_data = pd.read_csv(data_base_path + 'saidas_breast.csv')\n",
    "\n",
    "input_data.describe()"
   ]
  },
  {
   "cell_type": "code",
   "execution_count": 107,
   "metadata": {},
   "outputs": [
    {
     "data": {
      "text/html": [
       "<div>\n",
       "<style scoped>\n",
       "    .dataframe tbody tr th:only-of-type {\n",
       "        vertical-align: middle;\n",
       "    }\n",
       "\n",
       "    .dataframe tbody tr th {\n",
       "        vertical-align: top;\n",
       "    }\n",
       "\n",
       "    .dataframe thead th {\n",
       "        text-align: right;\n",
       "    }\n",
       "</style>\n",
       "<table border=\"1\" class=\"dataframe\">\n",
       "  <thead>\n",
       "    <tr style=\"text-align: right;\">\n",
       "      <th></th>\n",
       "      <th>0</th>\n",
       "    </tr>\n",
       "  </thead>\n",
       "  <tbody>\n",
       "    <tr>\n",
       "      <th>count</th>\n",
       "      <td>569.000000</td>\n",
       "    </tr>\n",
       "    <tr>\n",
       "      <th>mean</th>\n",
       "      <td>0.627417</td>\n",
       "    </tr>\n",
       "    <tr>\n",
       "      <th>std</th>\n",
       "      <td>0.483918</td>\n",
       "    </tr>\n",
       "    <tr>\n",
       "      <th>min</th>\n",
       "      <td>0.000000</td>\n",
       "    </tr>\n",
       "    <tr>\n",
       "      <th>25%</th>\n",
       "      <td>0.000000</td>\n",
       "    </tr>\n",
       "    <tr>\n",
       "      <th>50%</th>\n",
       "      <td>1.000000</td>\n",
       "    </tr>\n",
       "    <tr>\n",
       "      <th>75%</th>\n",
       "      <td>1.000000</td>\n",
       "    </tr>\n",
       "    <tr>\n",
       "      <th>max</th>\n",
       "      <td>1.000000</td>\n",
       "    </tr>\n",
       "  </tbody>\n",
       "</table>\n",
       "</div>"
      ],
      "text/plain": [
       "                0\n",
       "count  569.000000\n",
       "mean     0.627417\n",
       "std      0.483918\n",
       "min      0.000000\n",
       "25%      0.000000\n",
       "50%      1.000000\n",
       "75%      1.000000\n",
       "max      1.000000"
      ]
     },
     "execution_count": 107,
     "metadata": {},
     "output_type": "execute_result"
    }
   ],
   "source": [
    "output_data.describe()"
   ]
  },
  {
   "cell_type": "code",
   "execution_count": 108,
   "metadata": {},
   "outputs": [
    {
     "data": {
      "image/png": "[encoded data removed]",
      "text/plain": [
       "<Figure size 432x288 with 1 Axes>"
      ]
     },
     "metadata": {
      "needs_background": "light"
     },
     "output_type": "display_data"
    }
   ],
   "source": [
    "sns.countplot(output_data['0']);"
   ]
  },
  {
   "cell_type": "markdown",
   "metadata": {},
   "source": [
    "### Data Preparation:"
   ]
  },
  {
   "cell_type": "code",
   "execution_count": 109,
   "metadata": {},
   "outputs": [],
   "source": [
    "from sklearn.model_selection import train_test_split\n",
    "X_train, X_test, Y_train, Y_test = train_test_split(input_data, output_data, test_size = 0.25)"
   ]
  },
  {
   "cell_type": "code",
   "execution_count": 110,
   "metadata": {},
   "outputs": [
    {
     "name": "stdout",
     "output_type": "stream",
     "text": [
      "X_train Shape: (426, 30) Y_train Shape: (426, 1)\n",
      "X_test Shape: (143, 30) Y_test Shape: (143, 1)\n"
     ]
    }
   ],
   "source": [
    "print('X_train Shape:', X_train.shape, 'Y_train Shape:', Y_train.shape)\n",
    "print('X_test Shape:', X_test.shape, 'Y_test Shape:', Y_test.shape)"
   ]
  },
  {
   "cell_type": "code",
   "execution_count": 111,
   "metadata": {},
   "outputs": [
    {
     "data": {
      "text/plain": [
       "<torch._C.Generator at 0x22d920a7720>"
      ]
     },
     "execution_count": 111,
     "metadata": {},
     "output_type": "execute_result"
    }
   ],
   "source": [
    "import torch.nn as nn\n",
    "np.random.seed(123)\n",
    "torch.manual_seed(123)"
   ]
  },
  {
   "cell_type": "code",
   "execution_count": 112,
   "metadata": {},
   "outputs": [],
   "source": [
    "X_train_torch = torch.tensor(np.array(X_train), dtype=torch.float)\n",
    "Y_train_torch = torch.tensor(np.array(Y_train), dtype=torch.float)"
   ]
  },
  {
   "cell_type": "code",
   "execution_count": 113,
   "metadata": {},
   "outputs": [],
   "source": [
    "dataset = torch.utils.data.TensorDataset(X_train_torch, Y_train_torch)\n",
    "train_loader = torch.utils.data.DataLoader(dataset, batch_size=10, shuffle=True)"
   ]
  },
  {
   "cell_type": "markdown",
   "metadata": {},
   "source": [
    "### NN Model Build Up"
   ]
  },
  {
   "cell_type": "code",
   "execution_count": 114,
   "metadata": {},
   "outputs": [
    {
     "name": "stdout",
     "output_type": "stream",
     "text": [
      "<bound method Module.parameters of Sequential(\n",
      "  (0): Linear(in_features=30, out_features=16, bias=True)\n",
      "  (1): ReLU()\n",
      "  (2): Linear(in_features=16, out_features=16, bias=True)\n",
      "  (3): ReLU()\n",
      "  (4): Linear(in_features=16, out_features=1, bias=True)\n",
      "  (5): Sigmoid()\n",
      ")>\n"
     ]
    }
   ],
   "source": [
    "# 30 -> 16 -> 16 -> 1\n",
    "# (input + output) / 2 = (30 + 1) / 2 = 16\n",
    "\n",
    "classifier = nn.Sequential(nn.Linear(in_features=30, out_features=16),\n",
    "                           nn.ReLU(),\n",
    "                           nn.Linear(16, 16),\n",
    "                           nn.ReLU(),\n",
    "                           nn.Linear(16, 1),\n",
    "                           nn.Sigmoid()\n",
    "                           )\n",
    "\n",
    "criterion = nn.BCELoss()\n",
    "optimizer = torch.optim.Adam(classifier.parameters(), lr=0.001, weight_decay=0.0001)\n",
    "epochs = 100\n",
    "\n",
    "print(classifier.parameters)"
   ]
  },
  {
   "cell_type": "markdown",
   "metadata": {},
   "source": [
    "### Model Training:"
   ]
  },
  {
   "cell_type": "code",
   "execution_count": 119,
   "metadata": {},
   "outputs": [],
   "source": [
    "def torch_model_train(nn, optimizer, criterion, train_loader, epochs):\n",
    "    \n",
    "    for epoch in range(epochs):\n",
    "\n",
    "        running_loss = 0.\n",
    "        \n",
    "        if (epoch % 10 == 0):\n",
    "            clear_output(wait=True)\n",
    "\n",
    "        for data in train_loader:\n",
    "            \n",
    "            inputs, labels = data\n",
    "            optimizer.zero_grad()\n",
    "\n",
    "            outputs = nn(inputs) # classificador.forward(inputs)\n",
    "            loss = criterion(outputs, labels)\n",
    "                        \n",
    "            loss.backward()\n",
    "            optimizer.step()\n",
    "\n",
    "            running_loss += loss.item()\n",
    "\n",
    "        print('Epoch %3d/%3d: Loss: %.5f' % (epoch+1, epochs, running_loss/len(train_loader)))"
   ]
  },
  {
   "cell_type": "code",
   "execution_count": 120,
   "metadata": {},
   "outputs": [
    {
     "name": "stdout",
     "output_type": "stream",
     "text": [
      "Epoch  91/100: Loss: 0.09888\n",
      "Epoch  92/100: Loss: 0.13129\n",
      "Epoch  93/100: Loss: 0.10695\n",
      "Epoch  94/100: Loss: 0.12088\n",
      "Epoch  95/100: Loss: 0.12230\n",
      "Epoch  96/100: Loss: 0.11536\n",
      "Epoch  97/100: Loss: 0.13836\n",
      "Epoch  98/100: Loss: 0.13532\n",
      "Epoch  99/100: Loss: 0.11575\n",
      "Epoch 100/100: Loss: 0.12856\n"
     ]
    }
   ],
   "source": [
    "torch_model_train(classifier, optimizer, criterion, train_loader, epochs)"
   ]
  },
  {
   "cell_type": "code",
   "execution_count": 121,
   "metadata": {},
   "outputs": [
    {
     "name": "stdout",
     "output_type": "stream",
     "text": [
      "6\n",
      "torch.Size([16, 30])\n"
     ]
    }
   ],
   "source": [
    "params = list(classifier.parameters())\n",
    "print(len(params))\n",
    "print(params[0].shape)"
   ]
  },
  {
   "cell_type": "markdown",
   "metadata": {},
   "source": [
    "### Model Evaluation"
   ]
  },
  {
   "cell_type": "code",
   "execution_count": 122,
   "metadata": {},
   "outputs": [],
   "source": [
    "from sklearn.metrics import confusion_matrix, accuracy_score"
   ]
  },
  {
   "cell_type": "code",
   "execution_count": 123,
   "metadata": {},
   "outputs": [
    {
     "data": {
      "text/plain": [
       "Sequential(\n",
       "  (0): Linear(in_features=30, out_features=16, bias=True)\n",
       "  (1): ReLU()\n",
       "  (2): Linear(in_features=16, out_features=16, bias=True)\n",
       "  (3): ReLU()\n",
       "  (4): Linear(in_features=16, out_features=1, bias=True)\n",
       "  (5): Sigmoid()\n",
       ")"
      ]
     },
     "execution_count": 123,
     "metadata": {},
     "output_type": "execute_result"
    }
   ],
   "source": [
    "classifier.eval()"
   ]
  },
  {
   "cell_type": "code",
   "execution_count": 124,
   "metadata": {},
   "outputs": [],
   "source": [
    "X_test_torch = torch.tensor(np.array(X_test), dtype=torch.float)\n",
    "Y_test_torch = torch.tensor(np.array(Y_test), dtype=torch.float)"
   ]
  },
  {
   "cell_type": "code",
   "execution_count": 125,
   "metadata": {},
   "outputs": [
    {
     "name": "stdout",
     "output_type": "stream",
     "text": [
      "tensor([[9.6507e-01],\n",
      "        [1.0000e+00],\n",
      "        [3.0317e-02],\n",
      "        [9.9177e-01],\n",
      "        [4.9362e-05],\n",
      "        [7.3030e-01],\n",
      "        [9.6594e-01],\n",
      "        [9.9950e-01],\n",
      "        [4.7877e-01],\n",
      "        [7.1802e-02]], grad_fn=<SliceBackward>)\n"
     ]
    }
   ],
   "source": [
    "predictions = classifier.forward(X_test_torch)\n",
    "\n",
    "print(predictions[:10][:])"
   ]
  },
  {
   "cell_type": "code",
   "execution_count": 126,
   "metadata": {},
   "outputs": [
    {
     "name": "stdout",
     "output_type": "stream",
     "text": [
      "[[ True]\n",
      " [ True]\n",
      " [False]\n",
      " [ True]\n",
      " [False]\n",
      " [ True]\n",
      " [ True]\n",
      " [ True]\n",
      " [False]\n",
      " [False]]\n"
     ]
    }
   ],
   "source": [
    "predictions = np.array(predictions > 0.5)\n",
    "\n",
    "print(predictions[:10][:])"
   ]
  },
  {
   "cell_type": "code",
   "execution_count": 127,
   "metadata": {},
   "outputs": [
    {
     "name": "stdout",
     "output_type": "stream",
     "text": [
      "Accuracy: 0.8881118881118881\n"
     ]
    }
   ],
   "source": [
    "accuracy = accuracy_score(Y_test, predictions)\n",
    "print('Accuracy:', accuracy)"
   ]
  },
  {
   "cell_type": "code",
   "execution_count": 128,
   "metadata": {},
   "outputs": [
    {
     "data": {
      "image/png": "[encoded data removed]",
      "text/plain": [
       "<Figure size 432x288 with 2 Axes>"
      ]
     },
     "metadata": {
      "needs_background": "light"
     },
     "output_type": "display_data"
    }
   ],
   "source": [
    "cm = confusion_matrix(Y_test, predictions)\n",
    "\n",
    "sns.heatmap(cm, annot=True);"
   ]
  },
  {
   "cell_type": "code",
   "execution_count": 20,
   "metadata": {},
   "outputs": [],
   "source": []
  },
  {
   "cell_type": "code",
   "execution_count": null,
   "metadata": {},
   "outputs": [],
   "source": []
  }
 ],
 "metadata": {
  "kernelspec": {
   "display_name": "Python 3",
   "language": "python",
   "name": "python3"
  },
  "language_info": {
   "codemirror_mode": {
    "name": "ipython",
    "version": 3
   },
   "file_extension": ".py",
   "mimetype": "text/x-python",
   "name": "python",
   "nbconvert_exporter": "python",
   "pygments_lexer": "ipython3",
   "version": "3.7.1"
  }
 },
 "nbformat": 4,
 "nbformat_minor": 2
}
