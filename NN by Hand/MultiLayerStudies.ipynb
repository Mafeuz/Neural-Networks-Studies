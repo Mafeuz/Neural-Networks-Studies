{
 "cells": [
  {
   "cell_type": "code",
   "execution_count": 58,
   "metadata": {},
   "outputs": [],
   "source": [
    "import numpy as np\n",
    "import pandas as pd\n",
    "import matplotlib.pyplot as plt"
   ]
  },
  {
   "cell_type": "code",
   "execution_count": 59,
   "metadata": {},
   "outputs": [],
   "source": [
    "# Gradient Descent: Chegar ao ponto minimo de erro -> Derivada Parcial\n",
    "# DeltaSaida = erro*DerivadaSigmoide\n",
    "# DeltaCamadaOculta = DerivadaSigmoide*peso*DeltaSaida\n",
    "# Backpropagation = atualização dos pesos -> peso(n+1) = peso(n)*momento + (entrada*delta*taxaDeAprendizagem)\n",
    "# BIAS = reforço nas camadas ocultas ou de saida (valores diferentes mesmo se as entradas forem zero)\n",
    "# Erros = MSE, RMSE (penalizar erros maiores)\n",
    "# Neuronios = (entradas+saidas)/2 * chute\n",
    "# Problemas Linearmente Separaveis não precisam de camadas ocultas\n",
    "# mais de um neuronio na saida-> erro = soma dos erros\n",
    "# Gradiente Estocastico X Batch. Estocastico = erro por registro (ajuda a previnir minimos locais), \n",
    "# Batch Erro com todos os registros. Mini Batch (numero escolhido de registros)"
   ]
  },
  {
   "cell_type": "code",
   "execution_count": 60,
   "metadata": {},
   "outputs": [],
   "source": [
    "def sigmoid(x):\n",
    "    return 1/(1 + np.exp(-x))\n",
    "\n",
    "def sigmoidDerivada(sig):\n",
    "    return sig*(1-sig)"
   ]
  },
  {
   "cell_type": "code",
   "execution_count": 71,
   "metadata": {},
   "outputs": [
    {
     "name": "stdout",
     "output_type": "stream",
     "text": [
      "Erro: 0.49875894583719127\n",
      "None\n",
      "[[ 0.0675967 ]\n",
      " [-0.83871138]\n",
      " [ 0.20113784]]\n",
      "[[-0.42377766 -0.76806362 -0.95617699]\n",
      " [ 0.35825182 -0.6094205  -0.46152716]]\n"
     ]
    }
   ],
   "source": [
    "# XOR\n",
    "entradas = np.array([[0,0],[0,1],[1,0],[1,1]])\n",
    "saidas = np.array([[0],[1],[1],[0]])\n",
    "\n",
    "# Rede Feedforward:\n",
    "pesos0 = np.array([[-0.424, -0.740, -0.961],[0.358, -0.577, -0.469]])\n",
    "pesos1 = np.array([[-0.017],[-0.893],[0.148]])\n",
    "epocas = 10\n",
    "\n",
    "#pesos0 = 2*np.random.random((2,3)) - 1\n",
    "#pesos1 = 2*np.random.random((3,1)) - 1\n",
    "\n",
    "momento = 1\n",
    "taxaAprendizagem = 0.3\n",
    "erro_toleravel = 0.01\n",
    "\n",
    "for j in range(epocas):\n",
    "    camadaEntrada = entradas\n",
    "    somaSinapse0 = np.dot(camadaEntrada, pesos0)\n",
    "    camadaOculta = sigmoid(somaSinapse0)\n",
    "    \n",
    "    somaSinapse1 = np.dot(camadaOculta, pesos1)\n",
    "    camadaSaida = sigmoid(somaSinapse1)\n",
    "    \n",
    "    erroCamadaSaida = saidas - camadaSaida #erro simples + media\n",
    "    mediaAbsoluta = np.mean(abs(erroCamadaSaida))\n",
    "    \n",
    "    if (mediaAbsoluta < erro_toleravel):\n",
    "        print('Epoca:', j)\n",
    "        break\n",
    "    \n",
    "    derivadaSaida = sigmoidDerivada(camadaSaida)\n",
    "    \n",
    "    deltaSaida = erroCamadaSaida*derivadaSaida \n",
    "    \n",
    "    pesos1Transposta = pesos1.T\n",
    "    deltaSaidaXPesos = deltaSaida.dot(pesos1Transposta)\n",
    "    deltaCamadaOculta = deltaSaidaXPesos*sigmoidDerivada(camadaOculta)\n",
    "    \n",
    "    camadaOcultaTransposta = camadaOculta.T\n",
    "    EntradaXDeltaSaida = camadaOcultaTransposta.dot(deltaSaida)\n",
    "    pesos1 = (pesos1*momento) + (EntradaXDeltaSaida*taxaAprendizagem)\n",
    "    \n",
    "    entradasTransposta = camadaEntrada.T\n",
    "    EntradaXDeltaOculta = entradasTransposta.dot(deltaCamadaOculta)\n",
    "    pesos0 = (pesos0*momento) + (EntradaXDeltaOculta*taxaAprendizagem)\n",
    "\n",
    "print(print(\"Erro: \" + str(mediaAbsoluta)))\n",
    "print(pesos1)\n",
    "print(pesos0)\n",
    "    \n",
    "    \n",
    "\n"
   ]
  },
  {
   "cell_type": "code",
   "execution_count": null,
   "metadata": {},
   "outputs": [],
   "source": []
  }
 ],
 "metadata": {
  "kernelspec": {
   "display_name": "Python 3",
   "language": "python",
   "name": "python3"
  },
  "language_info": {
   "codemirror_mode": {
    "name": "ipython",
    "version": 3
   },
   "file_extension": ".py",
   "mimetype": "text/x-python",
   "name": "python",
   "nbconvert_exporter": "python",
   "pygments_lexer": "ipython3",
   "version": "3.7.1"
  }
 },
 "nbformat": 4,
 "nbformat_minor": 2
}
