{
 "cells": [
  {
   "cell_type": "code",
   "execution_count": null,
   "metadata": {},
   "outputs": [],
   "source": [
    "#from pybrain.structure import FeedForwardNetwork\n",
    "#from pybrain.structure import LinearLayer, SigmoidLayer, BiasUnit\n",
    "#from pybrain.structure import FyllConnection\n",
    "\n",
    "from pybrain.tools.shortcuts import buildNetwork\n",
    "from pybrain.datasets import SupervisedDataset\n",
    "from pybrain.supervised.trainers import BackpropTrainer\n",
    "from pybrain.structure.modules import SoftmaxLayer\n",
    "from pybrain.structure.modules import SigmoidLayer"
   ]
  },
  {
   "cell_type": "code",
   "execution_count": null,
   "metadata": {},
   "outputs": [],
   "source": [
    "camada_entradas = 2\n",
    "camada_ocultas = 3\n",
    "camada_saidas = 1\n",
    "\n",
    "'''rede = buildNetwork(camada_entradas, camada_ocultas, camada_saidas, outclass = SoftmaxLayer,\n",
    "                   hiddenclass = SigmoidLayer, bias = False)\n",
    "print(rede['in'])\n",
    "print(rede['hidden0'])\n",
    "print(rede['out'])\n",
    "print(rede['bias'])'''\n",
    "\n",
    "rede = buildNetwork(2, 3, 1)\n",
    "base = SupervisedDataset(2, 1)\n",
    "base = addSample((0, 0), (0,))\n",
    "base = addSample((0, 1), (1,))\n",
    "base = addSample((1, 0), (1,))\n",
    "base = addSample((1, 1), (0,))\n",
    "\n",
    "treinamento = BackpropTrainer(rede, dataset = base, learningrate = 0.01, momentum = 0.06)\n",
    "\n",
    "for i in range(1, Epochs)\n",
    "    erro = trinamento.train()\n",
    "    if i % 1000 == 0:\n",
    "        print('Erro: %s' % erro)\n",
    "        \n",
    "print(rede.activate([0, 0])) #teste\n",
    "print(rede.activate([0, 1]))\n",
    "print(rede.activate([1, 0]))\n",
    "print(rede.activate([1, 1]))"
   ]
  }
 ],
 "metadata": {
  "kernelspec": {
   "display_name": "Python 3",
   "language": "python",
   "name": "python3"
  },
  "language_info": {
   "codemirror_mode": {
    "name": "ipython",
    "version": 3
   },
   "file_extension": ".py",
   "mimetype": "text/x-python",
   "name": "python",
   "nbconvert_exporter": "python",
   "pygments_lexer": "ipython3",
   "version": "3.7.1"
  }
 },
 "nbformat": 4,
 "nbformat_minor": 2
}
