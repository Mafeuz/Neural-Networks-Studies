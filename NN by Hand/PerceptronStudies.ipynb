{
 "cells": [
  {
   "cell_type": "markdown",
   "metadata": {},
   "source": [
    "## Neural Network Testing"
   ]
  },
  {
   "cell_type": "code",
   "execution_count": 2,
   "metadata": {},
   "outputs": [],
   "source": [
    "import numpy as np\n",
    "import pandas as pd\n",
    "import matplotlib.pyplot as plt"
   ]
  },
  {
   "cell_type": "code",
   "execution_count": 65,
   "metadata": {},
   "outputs": [
    {
     "name": "stdout",
     "output_type": "stream",
     "text": [
      "Epoch: 0  - Currently Weights: [ 0.28597433 -0.47268362]  - Currently Error: 1\n",
      "Epoch: 1  - Currently Weights: [ 0.38597433 -0.37268362]  - Currently Error: 1\n",
      "Epoch: 2  - Currently Weights: [ 0.48597433 -0.27268362]  - Currently Error: 1\n",
      "Epoch: 3  - Currently Weights: [ 0.58597433 -0.17268362]  - Currently Error: 1\n",
      "Epoch: 4  - Currently Weights: [ 0.68597433 -0.07268362]  - Currently Error: 1\n",
      "Epoch: 5  - Currently Weights: [0.78597433 0.02731638]  - Currently Error: 1\n",
      "Epoch: 6  - Currently Weights: [0.88597433 0.12731638]  - Currently Error: 0\n",
      "Final Weights: [0.88597433 0.12731638]\n",
      "Prediction with Input = [1. 0.]  - Result: 0\n"
     ]
    }
   ],
   "source": [
    "# One-layer Perceptron for Classification:\n",
    "\n",
    "# OR/AND - Logic Table\n",
    "Input = np.array([[0,0], [0,1], [1,0], [1,1]])\n",
    "#Output = np.array([0, 1, 1, 1]) # OR\n",
    "Output = np.array([0, 0, 0, 1]) # AND\n",
    "\n",
    "# Starting Parameters for Perceptron\n",
    "#Weight = np.array([0.0, 0.0])\n",
    "Weight = np.random.uniform(low=-0.6, high=0.6, size=(2))\n",
    "LearningRate = 0.1\n",
    "\n",
    "def Random_Binary_TestInput():\n",
    "    Input = np.random.uniform(low=0, high=1, size=(2))\n",
    "    \n",
    "    if (Input[0] > 0.49):\n",
    "        Input[0] = 1\n",
    "    else:\n",
    "        Input[0] = 0\n",
    "        \n",
    "    if (Input[1] > 0.49):\n",
    "        Input[1] = 1\n",
    "    else:\n",
    "        Input[1] = 0\n",
    "        \n",
    "    return Input\n",
    "    \n",
    "def stepFunction(x):\n",
    "    if (x >=1):\n",
    "        return 1\n",
    "    return 0\n",
    "\n",
    "def calculateOutput(record, Weight):\n",
    "    s = record.dot(Weight)\n",
    "    return stepFunction(s)\n",
    "\n",
    "def training(Input, Output, Weight, LearningRate):\n",
    "    TotalError = 1\n",
    "    counter = 0\n",
    "    while (TotalError !=0):\n",
    "        TotalError = 0\n",
    "        for i in range(len(Output)):\n",
    "            calculatedOutput = calculateOutput(Input[i], Weight)\n",
    "            error = abs(Output[i] - calculatedOutput)\n",
    "            TotalError += error\n",
    "            \n",
    "            if (i == (len(Output)-1)):\n",
    "                print('Epoch:', counter, ' - Currently Weights:', Weight, ' - Currently Error:', TotalError)\n",
    "        \n",
    "            for j in range(len(Weight)):\n",
    "                Weight[j] = Weight[j] + (LearningRate*error*Input[i][j])\n",
    "                \n",
    "        counter += 1\n",
    "        \n",
    "        \n",
    "        if (counter>1000):\n",
    "            print('The network cant find a relation pattern to solve it.')\n",
    "            break\n",
    "            \n",
    "    return Weight\n",
    "        \n",
    "Final_Weights = training(Input, Output, Weight, LearningRate)\n",
    "\n",
    "Test_Input = Random_Binary_TestInput()\n",
    "\n",
    "Prediction = calculateOutput(Test_Input, Final_Weights)\n",
    "\n",
    "print('Final Weights:', Final_Weights)\n",
    "print('Prediction with Input =', Test_Input, ' - Result:', Prediction)\n",
    "\n",
    "    \n"
   ]
  },
  {
   "cell_type": "code",
   "execution_count": null,
   "metadata": {},
   "outputs": [],
   "source": []
  },
  {
   "cell_type": "code",
   "execution_count": null,
   "metadata": {},
   "outputs": [],
   "source": []
  }
 ],
 "metadata": {
  "kernelspec": {
   "display_name": "Python 3",
   "language": "python",
   "name": "python3"
  },
  "language_info": {
   "codemirror_mode": {
    "name": "ipython",
    "version": 3
   },
   "file_extension": ".py",
   "mimetype": "text/x-python",
   "name": "python",
   "nbconvert_exporter": "python",
   "pygments_lexer": "ipython3",
   "version": "3.7.1"
  }
 },
 "nbformat": 4,
 "nbformat_minor": 2
}
