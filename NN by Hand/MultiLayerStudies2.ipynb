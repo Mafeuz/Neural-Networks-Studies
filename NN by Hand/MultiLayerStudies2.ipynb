{
 "cells": [
  {
   "cell_type": "code",
   "execution_count": 4,
   "metadata": {},
   "outputs": [],
   "source": [
    "import numpy as np\n",
    "import pandas as pd\n",
    "import matplotlib.pyplot as plt\n",
    "from IPython.display import clear_output"
   ]
  },
  {
   "cell_type": "code",
   "execution_count": null,
   "metadata": {},
   "outputs": [],
   "source": [
    "def sigmoid(x):\n",
    "    return 1/(1 + np.exp(-x))\n",
    "\n",
    "def D_sigmoid(sig):\n",
    "    return sig*(1-sig)\n",
    "\n",
    "def Network_Test(Input_Data, Weight_0, Weight_1):\n",
    "    \n",
    "    HiddenLayer = sigmoid(np.dot(Input_Data, Weight_0))\n",
    "    OutputLayer = sigmoid(np.dot(HiddenLayer, Weight_1))\n",
    "    \n",
    "    return (OutputLayer)\n",
    "\n",
    "def Calculate_Error(Output_Data, OutputLayer, Error_Type):\n",
    "    \n",
    "    if (Error_Type == 'Mean Simple'):\n",
    "        OutputLayer_Error = (Output_Data - OutputLayer) \n",
    "        Total_Error = np.mean(abs(OutputLayer_Error))\n",
    "        \n",
    "    if (Error_Type == 'MSE'):\n",
    "        OutputLayer_Error = (Output_Data - OutputLayer)\n",
    "        Total_Error = np.mean(np.square(OutputLayer_Error))\n",
    "        \n",
    "    if (Error_Type == 'RMSE'):\n",
    "        OutputLayer_Error = (Output_Data - OutputLayer)\n",
    "        Total_Error = np.sqrt(np.mean(np.square(OutputLayer_Error)))\n",
    "        \n",
    "    return (OutputLayer_Error, Total_Error)"
   ]
  },
  {
   "cell_type": "code",
   "execution_count": null,
   "metadata": {},
   "outputs": [
    {
     "name": "stdout",
     "output_type": "stream",
     "text": [
      "Epoch: 1578  Error: 0.3972406842642141\n"
     ]
    }
   ],
   "source": [
    "# XOR\n",
    "Input_Data = np.array([[0,0],[0,1],[1,0],[1,1]])\n",
    "Output_Data = np.array([[0],[1],[1],[0]])\n",
    "\n",
    "# Feedforward Backpropagation Network with Batch Gradient:\n",
    "\n",
    "# Random Starting Weights:\n",
    "Weight_0 = 2*np.random.random((2,3)) - 1\n",
    "Weight_1 = 2*np.random.random((3,1)) - 1\n",
    "\n",
    "# Parameters:\n",
    "Max_Epochs = 100000\n",
    "moment = 1\n",
    "LearningRate = 0.5\n",
    "tolerated_error = 0.05\n",
    "Error_Type = 'Mean Simple'\n",
    "\n",
    "for k in range(Max_Epochs):\n",
    "    \n",
    "    # Considering Batch Gradient:\n",
    "    \n",
    "    InputLayer = Input_Data\n",
    "    HiddenLayer = sigmoid(np.dot(InputLayer , Weight_0))\n",
    "    OutputLayer = sigmoid(np.dot(HiddenLayer, Weight_1))\n",
    "    \n",
    "    OutputLayer_Error, Total_Error = Calculate_Error(Output_Data, OutputLayer, Error_Type)\n",
    "    \n",
    "    if (Total_Error < tolerated_error):\n",
    "        print('Minimum tolerated error achieved.')\n",
    "        break   \n",
    "    \n",
    "    print('Epoch:', k, ' Error:', Total_Error)\n",
    "    clear_output(wait=True)\n",
    "    \n",
    "    # Output Layer Delta = error * Derivative of the Activation Function\n",
    "    OutputLayer_Delta = OutputLayer_Error*D_sigmoid(OutputLayer)\n",
    "    \n",
    "    # Hidden Layer Delta = Derivative of the Activation Function * Output Layer Weight * Output Layer Delta\n",
    "    HiddenLayer_Delta = (OutputLayer_Delta.dot(Weight_1.T))*D_sigmoid(HiddenLayer)\n",
    "    \n",
    "    # Weight(n+1) = Weight(n)*moment + Input*Delta*LearningRate\n",
    "    Weight_1 = (Weight_1*moment) + (((HiddenLayer.T).dot(OutputLayer_Delta))*LearningRate)\n",
    "    Weight_0 = (Weight_0*moment) + (((InputLayer.T).dot(HiddenLayer_Delta))*LearningRate)\n",
    "\n",
    "print('=================================================')\n",
    "print('The training is finished.')\n",
    "print('Number of Epochs:', (k+1))\n",
    "print(\"Final Error: \", Total_Error, '(' ,Error_Type ,')')\n",
    "print('=================================================')\n",
    "print(\"Input Weights: \", Weight_0)\n",
    "print(\"Hidden Layer Weights: \", Weight_1.T)\n",
    "\n",
    "for j in range(len(Input_Data)):\n",
    "    \n",
    "    Input = Input_Data[j]\n",
    "    Result = Network_Test(Input, Weight_0, Weight_1)\n",
    "\n",
    "    print('=================================================')\n",
    "    print('Now testing with Input = ', Input, 'Result:', Result)\n",
    "\n",
    "\n"
   ]
  },
  {
   "cell_type": "code",
   "execution_count": null,
   "metadata": {},
   "outputs": [],
   "source": []
  }
 ],
 "metadata": {
  "kernelspec": {
   "display_name": "Python 3",
   "language": "python",
   "name": "python3"
  },
  "language_info": {
   "codemirror_mode": {
    "name": "ipython",
    "version": 3
   },
   "file_extension": ".py",
   "mimetype": "text/x-python",
   "name": "python",
   "nbconvert_exporter": "python",
   "pygments_lexer": "ipython3",
   "version": "3.7.1"
  }
 },
 "nbformat": 4,
 "nbformat_minor": 2
}
